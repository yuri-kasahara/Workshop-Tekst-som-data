{
  "cells": [
    {
      "cell_type": "markdown",
      "metadata": {
        "id": "view-in-github",
        "colab_type": "text"
      },
      "source": [
        "<a href=\"https://colab.research.google.com/github/yuri-kasahara/Workshop-Tekst-som-data/blob/main/OCR_pdf_example.ipynb\" target=\"_parent\"><img src=\"https://colab.research.google.com/assets/colab-badge.svg\" alt=\"Open In Colab\"/></a>"
      ]
    },
    {
      "cell_type": "code",
      "execution_count": 1,
      "id": "ee8a1a9e",
      "metadata": {
        "colab": {
          "base_uri": "https://localhost:8080/"
        },
        "id": "ee8a1a9e",
        "outputId": "93cdb487-61f3-497a-8794-cc3fdf98f67d"
      },
      "outputs": [
        {
          "output_type": "stream",
          "name": "stdout",
          "text": [
            "Collecting pdfminer-six\n",
            "  Downloading pdfminer.six-20221105-py3-none-any.whl (5.6 MB)\n",
            "\u001b[2K     \u001b[90m━━━━━━━━━━━━━━━━━━━━━━━━━━━━━━━━━━━━━━━━\u001b[0m \u001b[32m5.6/5.6 MB\u001b[0m \u001b[31m39.0 MB/s\u001b[0m eta \u001b[36m0:00:00\u001b[0m\n",
            "\u001b[?25hRequirement already satisfied: charset-normalizer>=2.0.0 in /usr/local/lib/python3.10/dist-packages (from pdfminer-six) (3.3.2)\n",
            "Requirement already satisfied: cryptography>=36.0.0 in /usr/local/lib/python3.10/dist-packages (from pdfminer-six) (41.0.7)\n",
            "Requirement already satisfied: cffi>=1.12 in /usr/local/lib/python3.10/dist-packages (from cryptography>=36.0.0->pdfminer-six) (1.16.0)\n",
            "Requirement already satisfied: pycparser in /usr/local/lib/python3.10/dist-packages (from cffi>=1.12->cryptography>=36.0.0->pdfminer-six) (2.21)\n",
            "Installing collected packages: pdfminer-six\n",
            "Successfully installed pdfminer-six-20221105\n"
          ]
        }
      ],
      "source": [
        "!pip install pdfminer-six\n",
        "\n",
        "from io import StringIO\n",
        "\n",
        "from pdfminer.converter import HTMLConverter, TextConverter\n",
        "from pdfminer.layout import LAParams\n",
        "from pdfminer.pdfdocument import PDFDocument\n",
        "from pdfminer.pdfinterp import PDFResourceManager, PDFPageInterpreter\n",
        "from pdfminer.pdfpage import PDFPage\n",
        "from pdfminer.pdfparser import PDFParser\n",
        "\n",
        "import requests\n",
        "import os\n",
        "import logging\n",
        "import regex as re\n",
        "from bs4 import BeautifulSoup as BS\n",
        "import pandas as pd\n",
        "import time\n",
        "import urllib.request\n",
        "import json\n",
        "import math"
      ]
    },
    {
      "cell_type": "code",
      "source": [
        "from google.colab import drive\n",
        "drive.mount('/content/drive')"
      ],
      "metadata": {
        "colab": {
          "base_uri": "https://localhost:8080/"
        },
        "id": "ooNqel6AhsKZ",
        "outputId": "f1e6cad4-7de6-4e63-ca81-2d5ba98770bf"
      },
      "id": "ooNqel6AhsKZ",
      "execution_count": 2,
      "outputs": [
        {
          "output_type": "stream",
          "name": "stdout",
          "text": [
            "Mounted at /content/drive\n"
          ]
        }
      ]
    },
    {
      "cell_type": "code",
      "execution_count": 10,
      "id": "06811e54",
      "metadata": {
        "colab": {
          "base_uri": "https://localhost:8080/"
        },
        "id": "06811e54",
        "outputId": "c24717fb-74bc-4fe2-c598-4381c301d472"
      },
      "outputs": [
        {
          "output_type": "stream",
          "name": "stdout",
          "text": [
            "Barne- og familiedepartementet  \n",
            "Høringssvar \n",
            "\n",
            "Oslo, 19. mars 2021 \n",
            "\n",
            "Tverrfaglig helsekartlegging av barn i barnevernet \n",
            "\n",
            "Actis  -  Rusfeltets  samarbeidsorgan  er  en  pådriver  for  en  ansvarlig  ruspolitikk. \n",
            "Sammen med våre 34 medlemsorganisasjoner jobber vi for å forebygge og begrense \n",
            "skadene ved bruk av alkohol, narkotika og pengespill. Vi takker for muligheten til å \n",
            "avgi høringssvar.  \n",
            "\n",
            "Vi  støtter  forslaget  om  å  gjennomføre  en  tverrfaglig  helsekartlegging  av  barn  i \n",
            "barnevernet, men etterlyser en tydeliggjøring av hvordan mulige rusproblemer skal \n",
            "fanges opp ved hjelp av kartleggingen, og dermed utløse pakkeforløp for kartlegging \n",
            "og utredning av psykisk helse og rus. Vi håper dette vil klargjøres i retningslinjene for \n",
            "den  tverrfaglige  helsekartleggingen.  Vi  støtter  også  den  foreslåtte  målgruppen. \n",
            "Øvrige kommentarer følger under.  \n",
            "\n",
            "Mer  rusbruk  blant  ungdom  med  psykiske  plager,  ADHD  og \n",
            "adferdsproblemer \n",
            "Som  høringsnotatet  påpeker,  har  barnevernsbarn  høyere  risiko  for  å  ha  psykisk \n",
            "uhelse,  og  for  å  utvikle  rusproblemer.  Det  er  en  tydelig  sammenheng  mellom \n",
            "psykiske problemer og rusmiddelbruk. Ungdom som er mest plaget psykisk, er også \n",
            "blant  dem  som  oftest  har  erfaring  med  bruk  av  rusmidler.  Andelen  unge  som \n",
            "rapporterer om depressive symptomer øker med antall ganger de unge oppgir å ha \n",
            "brukt  hasj  eller  marihuana,  ifølge  Ungdata  2018.  Dette  gjelder  både  for  gutter  og \n",
            "jenter  på  ungdomstrinnet  og  i  videregående  skole,  men  nivåene  ligger  høyere  for \n",
            "jenter enn for gutter. Om lag halvparten av jentene på ungdoms- og videregående \n",
            "skole som har brukt hasj eller marihuana 6 ganger eller mer, rapporterer om høye \n",
            "nivåer  av  depressive  symptomer.  For  guttene  er  andelene  henholdsvis  31  og  23 \n",
            "prosent. \n",
            "\n",
            "Videre er det en klar sammenheng mellom adferdsproblemer, ADHD og risiko for å \n",
            "utvikle  problematisk  rusmiddelbruk.  Nyere  forskning  tyder  på  at  det  er  genetiske \n",
            "lenker mellom ADHD og ruslidelser1. Bergensstudien2 finner en tydelig sammenheng \n",
            "der  barn  som  med  mest  atferdsvansker  oftere  rapporterer  om  bruk  av  alkohol  og \n",
            "narkotika  når  de  blir  eldre.  Barn  og  unge  som  får  påvist  ADHD  eller  alvorlige \n",
            "adferdsproblemer bør få tettere oppfølging med hensyn til å forebygge rusbruk, også \n",
            "der det ikke foreligger mistanke om rusbruk på kartleggingstidspunktet, \n",
            "\n",
            "1 https://www.ncbi.nlm.nih.gov/pubmed/27835739 \n",
            "2 https://doi.org/10.1177/1455072518789852 \n",
            "\n",
            " \n",
            " \n",
            " \n",
            " \n",
            " \n",
            " \n",
            " \n",
            " \n",
            "  \n",
            " \n",
            "\fRuskompetanse i barnevernet og i kartleggingsteamene \n",
            "Det er behov for styrket ruskompetanse i barnevernet og, i forlengelsen av dette, de \n",
            "foreslåtte kartleggingsteamene. Helsetilsynets rapport, som nevnes i høringsnotatet, \n",
            "i \n",
            "fant  nettopp  at  kunnskap  og  kompetanse  på \n",
            "barneverntjenesten varierer mellom kommuner og regioner. Departementet foreslår \n",
            "at kartleggingsteamene for eksempel kan bestå av lege eller psykiater, psykologer og \n",
            "spesialisert  barnevernfaglig  kompetanse,  og  ber  om  innspill  på  andre  faggrupper \n",
            "som bør inngå i teamene. Vi mener det i tillegg er viktig å sikre at karteliggingsteamet \n",
            "har kompetanse til å kjenne igjen tegn på rusbruk blant barn og unge.  \n",
            "\n",
            "rus  og  avhengighet \n",
            "\n",
            "Dersom  kartleggingsteamene  velges  lagt  til  BUP,  er  det  behov  for  en  styrking  av \n",
            "ruskompetansen  også  der,  og  det  bør  vurderes  å  kartlegge  ungdommens \n",
            "rusmiddelbruk i større grad enn det gjøres i BUP i dag. Om lag åtte av ti poliklinikker \n",
            "har ikke tilstrekkelig oppmerksomhet rettet mot eventuelle rusproblemer hos unge, \n",
            "ifølge en tilsynsrapport fra 2015.3 Rapporten peker på at unge fra ti–tolv år og oppover \n",
            "bør spørres om sitt forhold til rus, og at det som hovedregel bør kartlegges hvilket \n",
            "forhold  pasienten  har  til  rusmidler,  om  det  eksisterer  et  misbruk,  eller  om \n",
            "ungdommen er i fare for å utvikle misbruk. BUP må ha rutiner som gjør at de fanger \n",
            "opp rusproblematikk blant pasientene.  \n",
            "\n",
            "Bedre koordinering av tjenester til barn og unge \n",
            "SINTEFs årlige kartlegginger av kommunalt rus- og psykisk helsearbeid4 peker på at \n",
            "det er behov for bedre koordinering av tjenester rettet mot unge, og for en styrking \n",
            "av  behandlingstilbudet  til  unge  med  rusproblemer.  Mange unge  med  alvorlige  og \n",
            "langvarige  rusproblemer  opplever  mangel  på  gode  støttetjenester  og  for  sen \n",
            "henvisning  til  spesialisthelsetjenesten. Det  er  også  et gap  mellom  BUP,  som  i liten \n",
            "grad tilbyr rusbehandling, og TSB, som i liten grad behandler pasienter under 18 år. \n",
            "Også  Helsetilsynets  rapport  om  de  to  jentene  som  var  plassert  på  Vestlundveien \n",
            "indikerer  at  behandlingstilbudet  til  unge  med  rusproblemer  ikke  er  godt  nok,  da \n",
            "særlig med hensyn til de som er i barneverninstitusjoner. \n",
            "\n",
            "Tverrfaglig helsekartlegging kan være et riktig skritt på veien til å bidra til at en særlig \n",
            "sårbar  og  utsatt  gruppe  barn  får  hjelp  med  sine  rusproblemer.  Det  er  imidlertid \n",
            "samtidig viktig å sikre at hjelpetilbudet er på plass, når det først er avdekket et behov. \n",
            "Barneombudets rapport «De tror vi er shitkids» peker på at det er vanskelig å finne \n",
            "riktig  institusjon,  spesielt  i  saker  der  ungdommene  sliter  med  rus  og  psykiske \n",
            "problemer. Det er store mangler i tilbudet til disse ungdommene, og få institusjoner \n",
            "som  kan  eller  vil  ta  imot  dem.  Dette  er  også  i  samsvar  med  resultatene  fra  CARE-\n",
            "prosjektet. Det er derfor viktig å sørge for en forsterking av tjenestetilbudet til unge \n",
            "med rusproblemer.  \n",
            "\n",
            "3 https://www.helsetilsynet.no/globalassets/opplastinger/publikasjoner/rapporter2015/helsetilsynetrapport3_2015.pdf \n",
            "4 https://www.helsedirektoratet.no/rapporter/kommunalt-psykisk-helse-og-rusarbeid-\n",
            "%C3%A5rsrapporter/Kommunalt%20psykisk%20helse-%20og%20rusarbeid%202020.pdf \n",
            "\n",
            " \n",
            " \n",
            " \n",
            " \n",
            " \n",
            " \n",
            " \n",
            " \n",
            "\fMed vennlig hilsen \n",
            "\n",
            "Actis – Rusfeltets samarbeidsorgan \n",
            "\n",
            " \n",
            " \n",
            " \n",
            " \n",
            " \n",
            " \n",
            " \n",
            " \n",
            " \n",
            " \n",
            " \n",
            " \n",
            " \n",
            " \n",
            "\f\n"
          ]
        }
      ],
      "source": [
        "## this code extracts the whole text of a pdf\n",
        "\n",
        "output_string = StringIO()\n",
        "with open('/content/drive/MyDrive/WorkshopTSD/Actis_hoering.pdf', 'rb') as in_file:\n",
        "    parser = PDFParser(in_file)\n",
        "    doc = PDFDocument(parser)\n",
        "    rsrcmgr = PDFResourceManager()\n",
        "    device = TextConverter(rsrcmgr, output_string, laparams=LAParams())\n",
        "    interpreter = PDFPageInterpreter(rsrcmgr, device)\n",
        "    for page in PDFPage.create_pages(doc):\n",
        "        interpreter.process_page(page)\n",
        "\n",
        "\n",
        "content = output_string.getvalue()\n",
        "\n",
        "print(content)\n",
        "\n",
        "\n",
        "\n",
        "\n",
        "\n",
        "\n"
      ]
    }
  ],
  "metadata": {
    "kernelspec": {
      "display_name": "Python 3 (ipykernel)",
      "language": "python",
      "name": "python3"
    },
    "language_info": {
      "codemirror_mode": {
        "name": "ipython",
        "version": 3
      },
      "file_extension": ".py",
      "mimetype": "text/x-python",
      "name": "python",
      "nbconvert_exporter": "python",
      "pygments_lexer": "ipython3",
      "version": "3.7.12"
    },
    "colab": {
      "provenance": [],
      "include_colab_link": true
    }
  },
  "nbformat": 4,
  "nbformat_minor": 5
}